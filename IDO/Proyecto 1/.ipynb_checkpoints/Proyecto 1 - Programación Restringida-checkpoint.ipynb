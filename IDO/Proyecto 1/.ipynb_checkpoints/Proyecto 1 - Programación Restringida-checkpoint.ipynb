{
 "cells": [
  {
   "cell_type": "markdown",
   "metadata": {},
   "source": [
    "# Planteamiento del problema"
   ]
  },
  {
   "cell_type": "markdown",
   "metadata": {},
   "source": [
    "El dueño de una fabrica de dulces ha detectado caramelo sobrante durante\n",
    "el proceso de fabricación, existen diferentes tipos de caramelo en la cantidad\n",
    "de sobrante. El objetivo del empresario es obtener más ganancias al fabricar\n",
    "un tipo de caramelo de calidad de exportación con el sobrante obtenido y asi\n",
    "garantizar que su producto llegue al mercado. \n",
    "\n",
    "Si arma paquetes que pesen a lo más 3kg no pagara ningún tipo de arancel, el empaque tiene una capacidad\n",
    "de 1 $dm^3$. \n",
    "\n",
    "Para que el negocio sea redondo, la producción del paquete debe\n",
    "de costar a lo más $200 y además garantizar que el caramelo sea lo más dulce\n",
    "posible. El objetivo es indicar el número óptimo de cada tipo de caramelo en\n",
    "cada paquete a partir de la siguiente información:"
   ]
  },
  {
   "cell_type": "markdown",
   "metadata": {},
   "source": [
    "| Caramelo | Peso (gramos) | Dimensiones (cm) | Dulzura | Valor ($) |\n",
    "|----------|---------------|------------------|---------|-----------|\n",
    "|     A    |      100      |  8 x 2.5 x 0.5   |   20    |     8     |\n",
    "|     B    |      45       |   7 x 2 x 0.5    |   16    |    6.8    |\n",
    "|     C    |      10       |   3 x 2 x 0.5    |   9     |     4     |\n",
    "|     D    |      25       |   3 x 3 x 0.5    |   7     |     3     |"
   ]
  },
  {
   "cell_type": "markdown",
   "metadata": {},
   "source": [
    "# Modelado y solución del problema mediante el uso de Programación de restricciones"
   ]
  },
  {
   "cell_type": "markdown",
   "metadata": {},
   "source": [
    "Definimos $x_i$ como el número de caramelos del tipo $i$ que utilizamos en cada empaque donde $i = 1, 2, 3, 4$.\n",
    "\n",
    "\n",
    "El objetivo es que el caramelo del empaque sea lo más dulce posible, por lo que la función objetivo queda dada por\n",
    "\n",
    "\\begin{equation}\n",
    "    z = f(\\bar{x}) = 20 x_1 + 16 x_2 + 9 x_3 + 7 x_4\n",
    "\\end{equation}\n",
    "\n",
    "Además, sabemos que cada decímetro cúbico equivale a mil centímetros cúbicos, por lo que la restricción del volumen del empaque es\n",
    "\n",
    "\\begin{equation}\n",
    "    (8 \\times 2.5 \\times 0.5) x_1 + (7 \\times 2 \\times 0.5) x_2 + (3 \\times 2 \\times 0.5) x_3 + (3 \\times 3 \\times 0.5) x_4 =\\\\10 x_1 + 7 x_2 + 3 x_3 + 3 x_4 \\leq 1000\n",
    "\\end{equation}\n",
    "\n",
    "y el modelo del problema es\n",
    "\n",
    "\\begin{equation} \\label{modelo}\n",
    "    \\begin{aligned}\n",
    "        &\\text{maximizar} && z = 20 x_1 + 16 x_2 + 9 x_3 + 7 x_4\\\\\n",
    "        &\\text{sujeto a} && 8 x_1 + 6.8 x_2 + 4 x_3 + 3 x_4 \\leq 200\\\\\n",
    "        &   &&10 x_1 + 7 x_2 + 3 x_3 + 3 x_4 \\leq 1000\\\\\n",
    "        &   && 100 x_1 + 45 x_2 + 10 x_3 + 25 x_4 \\leq 3000\\\\\n",
    "        &   && x_1, x_2, x_3, x_4 \\in \\mathbb{z}^+ \\cup \\{0\\}\n",
    "    \\end{aligned}\n",
    "\\end{equation}"
   ]
  },
  {
   "cell_type": "markdown",
   "metadata": {},
   "source": [
    "## Búsqueda de los dominios restringidos de cada variable"
   ]
  },
  {
   "cell_type": "markdown",
   "metadata": {},
   "source": [
    "Consideremos las restricciones del modelo:\n",
    "\n",
    "\\begin{align}\n",
    "    8 x_1 + 6.8 x_2 + 4 x_3 + 3 x_4 &\\leq 200\\\\\n",
    "    10 x_1 + 7 x_2 + 3 x_3 + 3 x_4 &\\leq 1000\\\\\n",
    "    100 x_1 + 45 x_2 + 10 x_3 + 25 x_4 &\\leq 3000\\\\\n",
    "    x_1, x_2, x_3, x_4 \\in \\mathbb{z}^+ &\\cup \\{0\\}\n",
    "\\end{align}\n",
    "\n",
    "Si igualamos $x_2, x_3$ y $x_4$ a cero, tenemos que $8 x_1 \\leq 200$, $10x_1 \\leq 1000$ y $100 x_1 \\leq 3000$, por lo que concluimos que\n",
    "\n",
    "\\begin{equation}\n",
    "    x_1 \\in \\{0, 1, 2, \\dots, 25\\}\n",
    "\\end{equation}\n",
    "\n",
    "De la misma forma, deducimos que\n",
    "\n",
    "\\begin{align}\n",
    "    x_2 &\\in \\{0, 1, 2, \\dots, 29\\}\\\\\n",
    "    x_3 &\\in \\{0, 1, 2, \\dots, 50\\}\\\\\n",
    "    x_4 &\\in \\{0, 1, 2, \\dots, 66\\}\n",
    "\\end{align}\n",
    "\n",
    "y planteamos la primera versión de nuestro problema restringido:"
   ]
  },
  {
   "cell_type": "code",
   "execution_count": 21,
   "metadata": {},
   "outputs": [
    {
     "data": {
      "text/plain": [
       "126423"
      ]
     },
     "execution_count": 21,
     "metadata": {},
     "output_type": "execute_result"
    }
   ],
   "source": [
    "from constraint import *\n",
    "import time\n",
    "\n",
    "# Creando el problema y el rango de las variables:\n",
    "problem = Problem()\n",
    "problem.addVariable(\"x1\", range(26))\n",
    "problem.addVariable(\"x2\", range(30))\n",
    "problem.addVariable(\"x3\", range(51))\n",
    "problem.addVariable(\"x4\", range(67))\n",
    "\n",
    "# Creando las restricciones\n",
    "problem.addConstraint(lambda x1, x2, x3, x4: 8*x1 + 6.8*x2 + 4*x3 + 3*x4 <= 200, (\"x1\", \"x2\", \"x3\", \"x4\"))\n",
    "problem.addConstraint(lambda x1, x2, x3, x4: 100*x1 + 45*x2 + 10*x3 + 25*x4 <= 3000, (\"x1\", \"x2\", \"x3\", \"x4\"))\n",
    "problem.addConstraint(lambda x1, x2, x3, x4: 10*x1 + 7*x2 + 3*x3 + 4.5*x4 <= 1000, (\"x1\", \"x2\", \"x3\", \"x4\"))\n",
    "\n",
    "# Obteniendo las soluciones factibles\n",
    "solutions = problem.getSolutions()\n",
    "\n",
    "# Creando la función objetivo\n",
    "def fncn_obj(x1, x2, x3, x4):\n",
    "    return 20*x1 + 16*x2 + 9*x3 + 7*x4\n",
    "\n",
    "auxProblem = problem\n",
    "\n",
    "len(solutions)"
   ]
  },
  {
   "cell_type": "markdown",
   "metadata": {},
   "source": [
    "Existen un total de 126,423 soluciones factibles para este modelo"
   ]
  },
  {
   "cell_type": "markdown",
   "metadata": {},
   "source": [
    "## Acotamiento de la función objetivo para encontrar la solución óptima"
   ]
  },
  {
   "cell_type": "markdown",
   "metadata": {},
   "source": [
    "De acuerdo con Frederick Hillier, la especialidad de la programación restringida o la programación de restricciones son los problemas con muchas restricciones y sin una función objetivo. Sin embargo, también concede que la presencia de una función objetivo no es impedimento y, en muchos casos, ayuda para restringir el conjunto factible del modelo aún más (Hillier, 478).\n",
    "\n",
    "Antes vimos que las variables $x_1, x_2, x_3$ y $x_4$ son tales que\n",
    "\n",
    "\\begin{align}\n",
    "    x_1 &\\in \\{0, 1, 2, \\dots, 25\\}\\\\\n",
    "    x_2 &\\in \\{0, 1, 2, \\dots, 29\\}\\\\\n",
    "    x_3 &\\in \\{0, 1, 2, \\dots, 50\\}\\\\\n",
    "    x_4 &\\in \\{0, 1, 2, \\dots, 66\\}\n",
    "\\end{align}\n",
    "\n",
    "En particular, notemos que $\\bar{x}_1 = (0, 0, 50, 0)$ y $\\bar{x}_2 = (0, 29, 0, 0)$ son soluciones factibles y que \n",
    "\n",
    "\\begin{equation}\n",
    "z_1 = f(0, 0, 50, 0) = 450 < 464 = f(0, 29, 0, 0) = z_2\n",
    "\\end{equation}\n",
    "\n",
    "lo cual es un enorme avance porque no solo podemos aseverar que el valor óptimo de $z$ es positivo, sino que debe satisfacer la restricción \n",
    "\n",
    "\\begin{equation}\n",
    "    z \\geq 450\n",
    "\\end{equation}\n",
    "\n",
    "la cual nos permite descartar más de 100,000 soluciones factibles adicionales, tal y como mostramos a continuación:"
   ]
  },
  {
   "cell_type": "code",
   "execution_count": 22,
   "metadata": {},
   "outputs": [
    {
     "data": {
      "text/plain": [
       "20949"
      ]
     },
     "execution_count": 22,
     "metadata": {},
     "output_type": "execute_result"
    }
   ],
   "source": [
    "auxProblem.addConstraint(lambda x1, x2, x3, x4: 20*x1 + 16*x2 + 9*x3 + 7*x4 >= 450, (\"x1\", \"x2\", \"x3\", \"x4\"))\n",
    "solutions = auxProblem.getSolutions()\n",
    "len(solutions)"
   ]
  },
  {
   "cell_type": "markdown",
   "metadata": {},
   "source": [
    "En realidad no hay razón para haberse conformado con probar un valor al azar de alguna componente de $\\bar{x}$. Podemos ver que el mayor coeficiente en la función objetivo corresponde a $x_1$, por lo que definimos la restricción\n",
    "\n",
    "\\begin{equation}\n",
    "    z \\geq f(25, 0 , 0, 0) = 500\n",
    "\\end{equation}\n",
    "\n",
    "y tenemos que el conjunto factibles se ha reducido tanto que únicamente nos queda una única solución"
   ]
  },
  {
   "cell_type": "code",
   "execution_count": 18,
   "metadata": {},
   "outputs": [
    {
     "data": {
      "text/plain": [
       "1"
      ]
     },
     "execution_count": 18,
     "metadata": {},
     "output_type": "execute_result"
    }
   ],
   "source": [
    "problem.addConstraint(lambda x1, x2, x3, x4: 20*x1 + 16*x2 + 9*x3 + 7*x4 >= 500, (\"x1\", \"x2\", \"x3\", \"x4\"))\n",
    "solutions = problem.getSolutions()\n",
    "len(solutions)"
   ]
  },
  {
   "cell_type": "markdown",
   "metadata": {},
   "source": [
    "y que, por supuesto, podemos corroborar es la solución óptima del modelo que planteamos originalmente:"
   ]
  },
  {
   "cell_type": "code",
   "execution_count": 19,
   "metadata": {},
   "outputs": [
    {
     "name": "stdout",
     "output_type": "stream",
     "text": [
      "El valor máximo es: 500 y la solución es (25, 0, 0, 0)\n"
     ]
    }
   ],
   "source": [
    "print(\"El valor máximo es: {} y la solución es {}\".format(z,(solucion['x1'],solucion['x2'],solucion['x3'],solucion['x4'])))"
   ]
  },
  {
   "cell_type": "code",
   "execution_count": 28,
   "metadata": {},
   "outputs": [
    {
     "name": "stdout",
     "output_type": "stream",
     "text": [
      "El valor máximo del modelo de programación lineal entera es: 500 y la solución es (25, 0, 0, 0)\n"
     ]
    }
   ],
   "source": [
    "# Creando el problema y el rango de las variables:\n",
    "original = Problem()\n",
    "original.addVariables([\"x1\", \"x2\", \"x3\", \"x4\"], [x1 >= 0, x2 >= 0, x3 >= 0, x4 >= 0])\n",
    "#problem.addVariables() \n",
    "# Creando las restricciones\n",
    "problem.addConstraint(lambda x1, x2, x3, x4: 8*x1 + 6.8*x2 + 4*x3 + 3*x4 <= 200, (\"x1\", \"x2\", \"x3\", \"x4\"))\n",
    "problem.addConstraint(lambda x1, x2, x3, x4: 100*x1 + 45*x2 + 10*x3 + 25*x4 <= 3000, (\"x1\", \"x2\", \"x3\", \"x4\"))\n",
    "problem.addConstraint(lambda x1, x2, x3, x4: 10*x1 + 7*x2 + 3*x3 + 4.5*x4 <= 1000, (\"x1\", \"x2\", \"x3\", \"x4\"))\n",
    "problem.addConstraint(lambda x1, x2, x3, x4: 20*x1 + 16*x2 + 9*x3 + 7*x4 >= 0, (\"x1\", \"x2\", \"x3\", \"x4\"))\n",
    "\n",
    "# Obteniendo las soluciones factibles\n",
    "solutions = original.getSolution()\n",
    "\n",
    "# Creando la función objetivo\n",
    "def fncn_obj(x1, x2, x3, x4):\n",
    "    return 20*x1 + 16*x2 + 9*x3 + 7*x4\n",
    "\n",
    "print(\"El valor máximo del modelo de programación lineal entera es: {} y la solución es {}\".format(z,(solucion['x1'],solucion['x2'],solucion['x3'],solucion['x4'])))"
   ]
  },
  {
   "cell_type": "markdown",
   "metadata": {},
   "source": [
    "# Bibliografía"
   ]
  },
  {
   "cell_type": "markdown",
   "metadata": {},
   "source": [
    "1. Hillier, Frederick S., and Gerald J. Lieberman. _Introducción a La investigación De Operaciones_. 9th ed. México D.F.: McGraw-Hill, 2010."
   ]
  }
 ],
 "metadata": {
  "kernelspec": {
   "display_name": "Python 3",
   "language": "python",
   "name": "python3"
  },
  "language_info": {
   "codemirror_mode": {
    "name": "ipython",
    "version": 3
   },
   "file_extension": ".py",
   "mimetype": "text/x-python",
   "name": "python",
   "nbconvert_exporter": "python",
   "pygments_lexer": "ipython3",
   "version": "3.7.3"
  },
  "latex_envs": {
   "LaTeX_envs_menu_present": true,
   "autoclose": true,
   "autocomplete": true,
   "bibliofile": "biblio.bib",
   "cite_by": "apalike",
   "current_citInitial": 1,
   "eqLabelWithNumbers": true,
   "eqNumInitial": 1,
   "hotkeys": {
    "equation": "Ctrl-E",
    "itemize": "Ctrl-I"
   },
   "labels_anchors": false,
   "latex_user_defs": false,
   "report_style_numbering": false,
   "user_envs_cfg": false
  },
  "toc": {
   "base_numbering": 1,
   "nav_menu": {},
   "number_sections": true,
   "sideBar": true,
   "skip_h1_title": false,
   "title_cell": "Table of Contents",
   "title_sidebar": "Contents",
   "toc_cell": false,
   "toc_position": {},
   "toc_section_display": true,
   "toc_window_display": false
  },
  "varInspector": {
   "cols": {
    "lenName": 16,
    "lenType": 16,
    "lenVar": 40
   },
   "kernels_config": {
    "python": {
     "delete_cmd_postfix": "",
     "delete_cmd_prefix": "del ",
     "library": "var_list.py",
     "varRefreshCmd": "print(var_dic_list())"
    },
    "r": {
     "delete_cmd_postfix": ") ",
     "delete_cmd_prefix": "rm(",
     "library": "var_list.r",
     "varRefreshCmd": "cat(var_dic_list()) "
    }
   },
   "types_to_exclude": [
    "module",
    "function",
    "builtin_function_or_method",
    "instance",
    "_Feature"
   ],
   "window_display": false
  }
 },
 "nbformat": 4,
 "nbformat_minor": 2
}
